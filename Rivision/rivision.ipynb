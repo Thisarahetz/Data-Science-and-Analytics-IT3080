{
 "cells": [
  {
   "cell_type": "code",
   "execution_count": 2,
   "id": "869d79b0",
   "metadata": {},
   "outputs": [],
   "source": [
    "import pandas as pd\n",
    "import numpy as np"
   ]
  },
  {
   "cell_type": "code",
   "execution_count": 4,
   "id": "ca1ce4ff",
   "metadata": {
    "scrolled": true
   },
   "outputs": [],
   "source": [
    "data = pd.read_excel(\"Online Retail.xlsx\")"
   ]
  },
  {
   "cell_type": "code",
   "execution_count": 5,
   "id": "acdb80c2",
   "metadata": {},
   "outputs": [
    {
     "data": {
      "text/plain": [
       "Index(['InvoiceNo', 'StockCode', 'Description', 'Quantity', 'InvoiceDate',\n",
       "       'UnitPrice', 'CustomerID', 'Country'],\n",
       "      dtype='object')"
      ]
     },
     "execution_count": 5,
     "metadata": {},
     "output_type": "execute_result"
    }
   ],
   "source": [
    "# Exploring the columns of the data\n",
    "data.columns"
   ]
  },
  {
   "cell_type": "code",
   "execution_count": 6,
   "id": "4eb6d0cd",
   "metadata": {},
   "outputs": [],
   "source": [
    "# Stripping extra spaces in the description\n",
    "data['Description'] = data['Description'].str.strip()\n"
   ]
  },
  {
   "cell_type": "code",
   "execution_count": 7,
   "id": "6ae63c36",
   "metadata": {},
   "outputs": [],
   "source": [
    "# Dropping the rows without any invoice number\n",
    "data.dropna(axis = 0, subset =['InvoiceNo'], inplace = True)\n",
    "data['InvoiceNo'] = data['InvoiceNo'].astype('str')\n"
   ]
  },
  {
   "cell_type": "code",
   "execution_count": 8,
   "id": "50d38a36",
   "metadata": {},
   "outputs": [],
   "source": [
    "# Dropping all transactions which were done on credit\n",
    "data = data[~data['InvoiceNo'].str.contains('C')]"
   ]
  },
  {
   "cell_type": "code",
   "execution_count": 9,
   "id": "f652b1ec",
   "metadata": {},
   "outputs": [],
   "source": [
    "#Step 3: Cleaning the Data\n",
    "# Stripping extra spaces in the description\n",
    "data['Description'] = data['Description'].str.strip()"
   ]
  },
  {
   "cell_type": "code",
   "execution_count": 10,
   "id": "a410b793",
   "metadata": {},
   "outputs": [],
   "source": [
    "# Dropping the rows without any invoice number\n",
    "data.dropna(axis = 0, subset =['InvoiceNo'], inplace = True)\n",
    "data['InvoiceNo'] = data['InvoiceNo'].astype('str')"
   ]
  },
  {
   "cell_type": "code",
   "execution_count": 12,
   "id": "d4e58ca0",
   "metadata": {},
   "outputs": [],
   "source": [
    "# Dropping all transactions which were done on credit\n",
    "data = data[~data['InvoiceNo'].str.contains('C')]"
   ]
  },
  {
   "cell_type": "code",
   "execution_count": 13,
   "id": "1cfa819b",
   "metadata": {},
   "outputs": [],
   "source": [
    "#Step 4: Splitting the data according to the region of transaction\n",
    "# Transactions done in France\n",
    "basket_France = (data[data['Country'] ==\"France\"]\n",
    ".groupby(['InvoiceNo', 'Description'])['Quantity']\n",
    ".sum().unstack().reset_index().fillna(0)\n",
    ".set_index('InvoiceNo'))"
   ]
  },
  {
   "cell_type": "code",
   "execution_count": 14,
   "id": "b738af4a",
   "metadata": {},
   "outputs": [],
   "source": [
    "# Transactions done in the United Kingdom\n",
    "basket_UK = (data[data['Country'] ==\"United Kingdom\"]\n",
    ".groupby(['InvoiceNo', 'Description'])['Quantity']\n",
    ".sum().unstack().reset_index().fillna(0)\n",
    ".set_index('InvoiceNo'))"
   ]
  },
  {
   "cell_type": "code",
   "execution_count": 15,
   "id": "e5984b6c",
   "metadata": {},
   "outputs": [],
   "source": [
    "# Transactions done in Portugal\n",
    "basket_Por = (data[data['Country'] ==\"Portugal\"]\n",
    ".groupby(['InvoiceNo', 'Description'])['Quantity']\n",
    ".sum().unstack().reset_index().fillna(0)\n",
    ".set_index('InvoiceNo'))"
   ]
  },
  {
   "cell_type": "code",
   "execution_count": 16,
   "id": "30172f7f",
   "metadata": {},
   "outputs": [],
   "source": [
    "basket_Sweden = (data[data['Country'] ==\"Sweden\"]\n",
    ".groupby(['InvoiceNo', 'Description'])['Quantity']\n",
    ".sum().unstack().reset_index().fillna(0)\n",
    ".set_index('InvoiceNo'))\n"
   ]
  },
  {
   "cell_type": "code",
   "execution_count": 17,
   "id": "4beba0f8",
   "metadata": {},
   "outputs": [],
   "source": [
    "#Step 5: Hot encoding the Data\n",
    "# Defining the hot encoding function to make the data suitable\n",
    "# for the concerned libraries\n",
    "def hot_encode(x):\n",
    "    if(x<= 0):\n",
    "        return 0\n",
    "    if(x>= 1):\n",
    "        return 1"
   ]
  },
  {
   "cell_type": "code",
   "execution_count": 18,
   "id": "a4528750",
   "metadata": {},
   "outputs": [],
   "source": [
    "# Encoding the datasets\n",
    "basket_encoded = basket_France.applymap(hot_encode)\n",
    "basket_France = basket_encoded\n",
    "basket_encoded = basket_UK.applymap(hot_encode)\n",
    "basket_UK = basket_encoded\n"
   ]
  },
  {
   "cell_type": "code",
   "execution_count": 19,
   "id": "2cf12b6e",
   "metadata": {},
   "outputs": [],
   "source": [
    "basket_encoded = basket_Por.applymap(hot_encode)\n",
    "basket_Por = basket_encoded\n",
    "basket_encoded = basket_Sweden.applymap(hot_encode)\n",
    "basket_Sweden = basket_encoded"
   ]
  },
  {
   "cell_type": "code",
   "execution_count": null,
   "id": "2b8cdbfe",
   "metadata": {},
   "outputs": [],
   "source": []
  }
 ],
 "metadata": {
  "kernelspec": {
   "display_name": "Python 3 (ipykernel)",
   "language": "python",
   "name": "python3"
  },
  "language_info": {
   "codemirror_mode": {
    "name": "ipython",
    "version": 3
   },
   "file_extension": ".py",
   "mimetype": "text/x-python",
   "name": "python",
   "nbconvert_exporter": "python",
   "pygments_lexer": "ipython3",
   "version": "3.9.2"
  }
 },
 "nbformat": 4,
 "nbformat_minor": 5
}
