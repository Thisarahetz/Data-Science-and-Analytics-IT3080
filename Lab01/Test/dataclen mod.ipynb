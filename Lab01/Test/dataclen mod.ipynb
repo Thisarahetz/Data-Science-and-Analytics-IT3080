{
 "cells": [
  {
   "cell_type": "code",
   "execution_count": 11,
   "id": "35ad7fef",
   "metadata": {},
   "outputs": [],
   "source": [
    "import pandas as pd\n",
    "import numpy as np\n",
    "from matplotlib import pyplot as plt"
   ]
  },
  {
   "cell_type": "code",
   "execution_count": 12,
   "id": "6dce127e",
   "metadata": {},
   "outputs": [],
   "source": [
    "raw_data=pd.read_csv(\"loan.csv\")"
   ]
  },
  {
   "cell_type": "code",
   "execution_count": 13,
   "id": "fc9cc70c",
   "metadata": {},
   "outputs": [
    {
     "data": {
      "text/html": [
       "<div>\n",
       "<style scoped>\n",
       "    .dataframe tbody tr th:only-of-type {\n",
       "        vertical-align: middle;\n",
       "    }\n",
       "\n",
       "    .dataframe tbody tr th {\n",
       "        vertical-align: top;\n",
       "    }\n",
       "\n",
       "    .dataframe thead th {\n",
       "        text-align: right;\n",
       "    }\n",
       "</style>\n",
       "<table border=\"1\" class=\"dataframe\">\n",
       "  <thead>\n",
       "    <tr style=\"text-align: right;\">\n",
       "      <th></th>\n",
       "      <th>id</th>\n",
       "      <th>member_id</th>\n",
       "      <th>loan_amnt</th>\n",
       "      <th>funded_amnt</th>\n",
       "      <th>funded_amnt_inv</th>\n",
       "      <th>term</th>\n",
       "      <th>int_rate</th>\n",
       "      <th>installment</th>\n",
       "      <th>grade</th>\n",
       "      <th>sub_grade</th>\n",
       "      <th>...</th>\n",
       "      <th>hardship_payoff_balance_amount</th>\n",
       "      <th>hardship_last_payment_amount</th>\n",
       "      <th>disbursement_method</th>\n",
       "      <th>debt_settlement_flag</th>\n",
       "      <th>debt_settlement_flag_date</th>\n",
       "      <th>settlement_status</th>\n",
       "      <th>settlement_date</th>\n",
       "      <th>settlement_amount</th>\n",
       "      <th>settlement_percentage</th>\n",
       "      <th>settlement_term</th>\n",
       "    </tr>\n",
       "  </thead>\n",
       "  <tbody>\n",
       "    <tr>\n",
       "      <th>0</th>\n",
       "      <td>NaN</td>\n",
       "      <td>NaN</td>\n",
       "      <td>2500</td>\n",
       "      <td>2500</td>\n",
       "      <td>2500</td>\n",
       "      <td>36 months</td>\n",
       "      <td>13.56</td>\n",
       "      <td>84.92</td>\n",
       "      <td>C</td>\n",
       "      <td>C1</td>\n",
       "      <td>...</td>\n",
       "      <td>NaN</td>\n",
       "      <td>NaN</td>\n",
       "      <td>Cash</td>\n",
       "      <td>N</td>\n",
       "      <td>NaN</td>\n",
       "      <td>NaN</td>\n",
       "      <td>NaN</td>\n",
       "      <td>NaN</td>\n",
       "      <td>NaN</td>\n",
       "      <td>NaN</td>\n",
       "    </tr>\n",
       "    <tr>\n",
       "      <th>1</th>\n",
       "      <td>NaN</td>\n",
       "      <td>NaN</td>\n",
       "      <td>30000</td>\n",
       "      <td>30000</td>\n",
       "      <td>30000</td>\n",
       "      <td>60 months</td>\n",
       "      <td>18.94</td>\n",
       "      <td>777.23</td>\n",
       "      <td>D</td>\n",
       "      <td>D2</td>\n",
       "      <td>...</td>\n",
       "      <td>NaN</td>\n",
       "      <td>NaN</td>\n",
       "      <td>Cash</td>\n",
       "      <td>N</td>\n",
       "      <td>NaN</td>\n",
       "      <td>NaN</td>\n",
       "      <td>NaN</td>\n",
       "      <td>NaN</td>\n",
       "      <td>NaN</td>\n",
       "      <td>NaN</td>\n",
       "    </tr>\n",
       "    <tr>\n",
       "      <th>2</th>\n",
       "      <td>NaN</td>\n",
       "      <td>NaN</td>\n",
       "      <td>5000</td>\n",
       "      <td>5000</td>\n",
       "      <td>5000</td>\n",
       "      <td>36 months</td>\n",
       "      <td>17.97</td>\n",
       "      <td>180.69</td>\n",
       "      <td>D</td>\n",
       "      <td>D1</td>\n",
       "      <td>...</td>\n",
       "      <td>NaN</td>\n",
       "      <td>NaN</td>\n",
       "      <td>Cash</td>\n",
       "      <td>N</td>\n",
       "      <td>NaN</td>\n",
       "      <td>NaN</td>\n",
       "      <td>NaN</td>\n",
       "      <td>NaN</td>\n",
       "      <td>NaN</td>\n",
       "      <td>NaN</td>\n",
       "    </tr>\n",
       "    <tr>\n",
       "      <th>3</th>\n",
       "      <td>NaN</td>\n",
       "      <td>NaN</td>\n",
       "      <td>4000</td>\n",
       "      <td>4000</td>\n",
       "      <td>4000</td>\n",
       "      <td>36 months</td>\n",
       "      <td>18.94</td>\n",
       "      <td>146.51</td>\n",
       "      <td>D</td>\n",
       "      <td>D2</td>\n",
       "      <td>...</td>\n",
       "      <td>NaN</td>\n",
       "      <td>NaN</td>\n",
       "      <td>Cash</td>\n",
       "      <td>N</td>\n",
       "      <td>NaN</td>\n",
       "      <td>NaN</td>\n",
       "      <td>NaN</td>\n",
       "      <td>NaN</td>\n",
       "      <td>NaN</td>\n",
       "      <td>NaN</td>\n",
       "    </tr>\n",
       "    <tr>\n",
       "      <th>4</th>\n",
       "      <td>NaN</td>\n",
       "      <td>NaN</td>\n",
       "      <td>30000</td>\n",
       "      <td>30000</td>\n",
       "      <td>30000</td>\n",
       "      <td>60 months</td>\n",
       "      <td>16.14</td>\n",
       "      <td>731.78</td>\n",
       "      <td>C</td>\n",
       "      <td>C4</td>\n",
       "      <td>...</td>\n",
       "      <td>NaN</td>\n",
       "      <td>NaN</td>\n",
       "      <td>Cash</td>\n",
       "      <td>N</td>\n",
       "      <td>NaN</td>\n",
       "      <td>NaN</td>\n",
       "      <td>NaN</td>\n",
       "      <td>NaN</td>\n",
       "      <td>NaN</td>\n",
       "      <td>NaN</td>\n",
       "    </tr>\n",
       "  </tbody>\n",
       "</table>\n",
       "<p>5 rows × 142 columns</p>\n",
       "</div>"
      ],
      "text/plain": [
       "   id  member_id  loan_amnt  funded_amnt  funded_amnt_inv        term  \\\n",
       "0 NaN        NaN       2500         2500             2500   36 months   \n",
       "1 NaN        NaN      30000        30000            30000   60 months   \n",
       "2 NaN        NaN       5000         5000             5000   36 months   \n",
       "3 NaN        NaN       4000         4000             4000   36 months   \n",
       "4 NaN        NaN      30000        30000            30000   60 months   \n",
       "\n",
       "   int_rate  installment grade sub_grade  ... hardship_payoff_balance_amount  \\\n",
       "0     13.56        84.92     C        C1  ...                            NaN   \n",
       "1     18.94       777.23     D        D2  ...                            NaN   \n",
       "2     17.97       180.69     D        D1  ...                            NaN   \n",
       "3     18.94       146.51     D        D2  ...                            NaN   \n",
       "4     16.14       731.78     C        C4  ...                            NaN   \n",
       "\n",
       "  hardship_last_payment_amount disbursement_method  debt_settlement_flag  \\\n",
       "0                          NaN                Cash                     N   \n",
       "1                          NaN                Cash                     N   \n",
       "2                          NaN                Cash                     N   \n",
       "3                          NaN                Cash                     N   \n",
       "4                          NaN                Cash                     N   \n",
       "\n",
       "  debt_settlement_flag_date settlement_status settlement_date  \\\n",
       "0                       NaN               NaN             NaN   \n",
       "1                       NaN               NaN             NaN   \n",
       "2                       NaN               NaN             NaN   \n",
       "3                       NaN               NaN             NaN   \n",
       "4                       NaN               NaN             NaN   \n",
       "\n",
       "  settlement_amount  settlement_percentage  settlement_term  \n",
       "0               NaN                    NaN              NaN  \n",
       "1               NaN                    NaN              NaN  \n",
       "2               NaN                    NaN              NaN  \n",
       "3               NaN                    NaN              NaN  \n",
       "4               NaN                    NaN              NaN  \n",
       "\n",
       "[5 rows x 142 columns]"
      ]
     },
     "execution_count": 13,
     "metadata": {},
     "output_type": "execute_result"
    }
   ],
   "source": [
    "raw_data.head()"
   ]
  },
  {
   "cell_type": "code",
   "execution_count": 15,
   "id": "eadc3bf0",
   "metadata": {},
   "outputs": [
    {
     "data": {
      "text/plain": [
       "(20000, 142)"
      ]
     },
     "execution_count": 15,
     "metadata": {},
     "output_type": "execute_result"
    }
   ],
   "source": [
    "raw_data.shape"
   ]
  },
  {
   "cell_type": "code",
   "execution_count": 16,
   "id": "3b581215",
   "metadata": {},
   "outputs": [
    {
     "data": {
      "text/plain": [
       "id                       float64\n",
       "member_id                float64\n",
       "loan_amnt                  int64\n",
       "funded_amnt                int64\n",
       "funded_amnt_inv            int64\n",
       "                          ...   \n",
       "settlement_status        float64\n",
       "settlement_date          float64\n",
       "settlement_amount        float64\n",
       "settlement_percentage    float64\n",
       "settlement_term          float64\n",
       "Length: 142, dtype: object"
      ]
     },
     "execution_count": 16,
     "metadata": {},
     "output_type": "execute_result"
    }
   ],
   "source": [
    "raw_data.dtypes"
   ]
  },
  {
   "cell_type": "code",
   "execution_count": 17,
   "id": "f8566520",
   "metadata": {},
   "outputs": [
    {
     "data": {
      "text/plain": [
       "count    20000.000000\n",
       "mean     16111.383750\n",
       "std      10369.193761\n",
       "min       1000.000000\n",
       "25%       8000.000000\n",
       "50%      14000.000000\n",
       "75%      22000.000000\n",
       "max      40000.000000\n",
       "Name: loan_amnt, dtype: float64"
      ]
     },
     "execution_count": 17,
     "metadata": {},
     "output_type": "execute_result"
    }
   ],
   "source": [
    "raw_data['loan_amnt'].describe()"
   ]
  },
  {
   "cell_type": "code",
   "execution_count": 19,
   "id": "05ee1a55",
   "metadata": {},
   "outputs": [],
   "source": [
    "raw_data_update= raw_data.drop(['zip_code', 'policy_code', 'application_type', 'last_credit_pull_d', \n",
    "'verification_status', 'pymnt_plan', 'funded_amnt_inv', 'sub_grade', 'out_prncp',\n",
    "'out_prncp_inv', 'total_pymnt_inv', 'total_pymnt', 'total_pymnt_inv', 'total_rec_prncp',\n",
    "'total_rec_int', 'total_rec_late_fee', 'recoveries', 'collection_recovery_fee', 'last_pymnt_d',\n",
    "'last_pymnt_amnt', 'initial_list_status'], axis =1)"
   ]
  },
  {
   "cell_type": "code",
   "execution_count": 20,
   "id": "017c97f8",
   "metadata": {},
   "outputs": [
    {
     "data": {
      "text/plain": [
       "(20000, 122)"
      ]
     },
     "execution_count": 20,
     "metadata": {},
     "output_type": "execute_result"
    }
   ],
   "source": [
    "raw_data_update.shape"
   ]
  },
  {
   "cell_type": "code",
   "execution_count": 21,
   "id": "2cfa0ddc",
   "metadata": {},
   "outputs": [
    {
     "name": "stdout",
     "output_type": "stream",
     "text": [
      "Column\t\t\t\t\t Null Values%\n",
      "id\t\t\t\t\t 100.0\n",
      "member_id\t\t\t\t\t 100.0\n",
      "url\t\t\t\t\t 100.0\n",
      "desc\t\t\t\t\t 100.0\n",
      "mths_since_last_delinq\t\t\t\t\t 56.375\n",
      "mths_since_last_record\t\t\t\t\t 88.41\n",
      "mths_since_last_major_derog\t\t\t\t\t 77.47\n",
      "annual_inc_joint\t\t\t\t\t 87.845\n",
      "dti_joint\t\t\t\t\t 87.845\n",
      "verification_status_joint\t\t\t\t\t 89.17\n",
      "mths_since_recent_bc_dlq\t\t\t\t\t 80.36\n",
      "mths_since_recent_revol_delinq\t\t\t\t\t 71.3\n",
      "revol_bal_joint\t\t\t\t\t 87.845\n",
      "sec_app_earliest_cr_line\t\t\t\t\t 87.845\n",
      "sec_app_inq_last_6mths\t\t\t\t\t 87.845\n",
      "sec_app_mort_acc\t\t\t\t\t 87.845\n",
      "sec_app_open_acc\t\t\t\t\t 87.845\n",
      "sec_app_revol_util\t\t\t\t\t 88.0\n",
      "sec_app_open_act_il\t\t\t\t\t 87.845\n",
      "sec_app_num_rev_accts\t\t\t\t\t 87.845\n",
      "sec_app_chargeoff_within_12_mths\t\t\t\t\t 87.845\n",
      "sec_app_collections_12_mths_ex_med\t\t\t\t\t 87.845\n",
      "sec_app_mths_since_last_major_derog\t\t\t\t\t 96.295\n",
      "hardship_type\t\t\t\t\t 100.0\n",
      "hardship_reason\t\t\t\t\t 100.0\n",
      "hardship_status\t\t\t\t\t 100.0\n",
      "deferral_term\t\t\t\t\t 100.0\n",
      "hardship_amount\t\t\t\t\t 100.0\n",
      "hardship_start_date\t\t\t\t\t 100.0\n",
      "hardship_end_date\t\t\t\t\t 100.0\n",
      "payment_plan_start_date\t\t\t\t\t 100.0\n",
      "hardship_length\t\t\t\t\t 100.0\n",
      "hardship_dpd\t\t\t\t\t 100.0\n",
      "hardship_loan_status\t\t\t\t\t 100.0\n",
      "orig_projected_additional_accrued_interest\t\t\t\t\t 100.0\n",
      "hardship_payoff_balance_amount\t\t\t\t\t 100.0\n",
      "hardship_last_payment_amount\t\t\t\t\t 100.0\n",
      "debt_settlement_flag_date\t\t\t\t\t 100.0\n",
      "settlement_status\t\t\t\t\t 100.0\n",
      "settlement_date\t\t\t\t\t 100.0\n",
      "settlement_amount\t\t\t\t\t 100.0\n",
      "settlement_percentage\t\t\t\t\t 100.0\n",
      "settlement_term\t\t\t\t\t 100.0\n",
      "A total of 43 deleted !\n"
     ]
    }
   ],
   "source": [
    "col_num=0\n",
    "TotalObjects = raw_data.shape[0]\n",
    "print (\"Column\\t\\t\\t\\t\\t Null Values%\")\n",
    "for x in raw_data:\n",
    "    nullCount = raw_data[x].isnull().sum();\n",
    "    nullPercent = nullCount*100 / (TotalObjects)\n",
    "    if nullCount > 0 and nullPercent > 20 :\n",
    "        col_num=col_num+1\n",
    "        raw_data.drop(x, axis=1,inplace=True)\n",
    "        print(str(x)+\"\\t\\t\\t\\t\\t \"+str(nullPercent))\n",
    "print (\"A total of \"+str(col_num)+\" deleted !\")"
   ]
  },
  {
   "cell_type": "code",
   "execution_count": 22,
   "id": "4ea7c29c",
   "metadata": {},
   "outputs": [
    {
     "data": {
      "text/plain": [
       "3319"
      ]
     },
     "execution_count": 22,
     "metadata": {},
     "output_type": "execute_result"
    }
   ],
   "source": [
    "raw_data['emp_title'].isnull().sum()"
   ]
  },
  {
   "cell_type": "code",
   "execution_count": 23,
   "id": "5861bd91",
   "metadata": {},
   "outputs": [],
   "source": [
    "raw_data['emp_title'].fillna('Unknown',inplace = True)"
   ]
  },
  {
   "cell_type": "code",
   "execution_count": 24,
   "id": "89048dd6",
   "metadata": {},
   "outputs": [
    {
     "data": {
      "text/plain": [
       "0"
      ]
     },
     "execution_count": 24,
     "metadata": {},
     "output_type": "execute_result"
    }
   ],
   "source": [
    "raw_data['emp_title'].isnull().sum()"
   ]
  },
  {
   "cell_type": "code",
   "execution_count": 25,
   "id": "838cb6b8",
   "metadata": {},
   "outputs": [],
   "source": [
    "raw_data['revol_util'].fillna(raw_data['revol_util'].mean(),inplace = True)\n"
   ]
  },
  {
   "cell_type": "code",
   "execution_count": null,
   "id": "673a34a4",
   "metadata": {},
   "outputs": [],
   "source": []
  }
 ],
 "metadata": {
  "kernelspec": {
   "display_name": "Python 3 (ipykernel)",
   "language": "python",
   "name": "python3"
  },
  "language_info": {
   "codemirror_mode": {
    "name": "ipython",
    "version": 3
   },
   "file_extension": ".py",
   "mimetype": "text/x-python",
   "name": "python",
   "nbconvert_exporter": "python",
   "pygments_lexer": "ipython3",
   "version": "3.9.2"
  }
 },
 "nbformat": 4,
 "nbformat_minor": 5
}
